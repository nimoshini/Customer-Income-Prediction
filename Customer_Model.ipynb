{
  "nbformat": 4,
  "nbformat_minor": 0,
  "metadata": {
    "colab": {
      "provenance": []
    },
    "kernelspec": {
      "name": "python3",
      "display_name": "Python 3"
    },
    "language_info": {
      "name": "python"
    }
  },
  "cells": [
    {
      "cell_type": "code",
      "execution_count": 1,
      "metadata": {
        "colab": {
          "base_uri": "https://localhost:8080/"
        },
        "id": "MTj-TcbaE4BB",
        "outputId": "7058b0d4-221f-475b-d9c8-dc5937a304a9"
      },
      "outputs": [
        {
          "output_type": "stream",
          "name": "stdout",
          "text": [
            "Logistic Regression Accuracy: 0.8279\n"
          ]
        }
      ],
      "source": [
        "import pandas as pd\n",
        "from sklearn.model_selection import train_test_split\n",
        "from sklearn.preprocessing import LabelEncoder, StandardScaler\n",
        "from sklearn.linear_model import LogisticRegression\n",
        "from sklearn.metrics import accuracy_score\n",
        "\n",
        "# Load dataset\n",
        "file_path = \"/content/census-income .csv\"\n",
        "df = pd.read_csv(file_path)\n",
        "\n",
        "# Convert target variable to binary (0: <=50K, 1: >50K)\n",
        "df['annual_income'] = df['annual_income'].map({'<=50K': 0, '>50K': 1})\n",
        "\n",
        "# Encode categorical columns\n",
        "categorical_cols = df.select_dtypes(include=['object']).columns.tolist()\n",
        "label_encoders = {}\n",
        "for col in categorical_cols:\n",
        "    if col != \"annual_income\":  # Target column already mapped\n",
        "        le = LabelEncoder()\n",
        "        df[col] = le.fit_transform(df[col])\n",
        "        label_encoders[col] = le\n",
        "\n",
        "# Split dataset into features (X) and target (y)\n",
        "X = df.drop(columns=[\"annual_income\"])\n",
        "y = df[\"annual_income\"]\n",
        "\n",
        "# Standardize numerical features\n",
        "scaler = StandardScaler()\n",
        "X = scaler.fit_transform(X)\n",
        "\n",
        "# Split into training and testing sets\n",
        "X_train, X_test, y_train, y_test = train_test_split(X, y, test_size=0.2, random_state=42, stratify=y)\n",
        "\n",
        "# Build Logistic Regression Model\n",
        "log_reg = LogisticRegression()\n",
        "log_reg.fit(X_train, y_train)\n",
        "\n",
        "# Make predictions\n",
        "y_pred = log_reg.predict(X_test)\n",
        "\n",
        "# Evaluate model\n",
        "accuracy = accuracy_score(y_test, y_pred)\n",
        "print(f\"Logistic Regression Accuracy: {accuracy:.4f}\")\n"
      ]
    },
    {
      "cell_type": "code",
      "source": [
        "import pandas as pd\n",
        "import numpy as np\n",
        "from sklearn.model_selection import train_test_split\n",
        "from sklearn.preprocessing import LabelEncoder, StandardScaler\n",
        "from sklearn.tree import DecisionTreeClassifier\n",
        "from sklearn.metrics import accuracy_score\n",
        "\n",
        "# Load dataset\n",
        "file_path = \"/content/census-income .csv\"\n",
        "df = pd.read_csv(file_path)\n",
        "\n",
        "# Convert target variable to binary (0: <=50K, 1: >50K)\n",
        "df['annual_income'] = df['annual_income'].map({'<=50K': 0, '>50K': 1})\n",
        "\n",
        "# Encode categorical columns\n",
        "categorical_cols = df.select_dtypes(include=['object']).columns.tolist()\n",
        "label_encoders = {}\n",
        "for col in categorical_cols:\n",
        "    if col != \"annual_income\":  # Target column already mapped\n",
        "        le = LabelEncoder()\n",
        "        df[col] = le.fit_transform(df[col])\n",
        "        label_encoders[col] = le\n",
        "\n",
        "# Split dataset into features (X) and target (y)\n",
        "X = df.drop(columns=[\"annual_income\"])\n",
        "y = df[\"annual_income\"]\n",
        "\n",
        "# Standardize numerical features\n",
        "scaler = StandardScaler()\n",
        "X = scaler.fit_transform(X)\n",
        "\n",
        "# Split into training and testing sets\n",
        "X_train, X_test, y_train, y_test = train_test_split(X, y, test_size=0.2, random_state=42, stratify=y)\n",
        "\n",
        "# Find the best max_depth using brute force\n",
        "best_depth = 1\n",
        "best_accuracy = 0\n",
        "\n",
        "for depth in range(1, 21):  # Checking depths from 1 to 20\n",
        "    dt = DecisionTreeClassifier(max_depth=depth, random_state=42)\n",
        "    dt.fit(X_train, y_train)\n",
        "    y_pred = dt.predict(X_test)\n",
        "    acc = accuracy_score(y_test, y_pred)\n",
        "\n",
        "    if acc > best_accuracy:\n",
        "        best_accuracy = acc\n",
        "        best_depth = depth\n",
        "\n",
        "# Train the best model\n",
        "best_dt = DecisionTreeClassifier(max_depth=best_depth, random_state=42)\n",
        "best_dt.fit(X_train, y_train)\n",
        "final_accuracy = accuracy_score(y_test, best_dt.predict(X_test))\n",
        "\n",
        "# Print the best max_depth and accuracy\n",
        "print(f\"Best max_depth: {best_depth}\")\n",
        "print(f\"Decision Tree Accuracy: {final_accuracy:.4f}\")\n"
      ],
      "metadata": {
        "colab": {
          "base_uri": "https://localhost:8080/"
        },
        "id": "YQCbFg9RJ5RO",
        "outputId": "e20634ed-6c52-49e6-eb41-52c2c8f967d5"
      },
      "execution_count": 4,
      "outputs": [
        {
          "output_type": "stream",
          "name": "stdout",
          "text": [
            "Best max_depth: 7\n",
            "Decision Tree Accuracy: 0.8600\n"
          ]
        }
      ]
    },
    {
      "cell_type": "code",
      "source": [
        "import pandas as pd\n",
        "import numpy as np\n",
        "from sklearn.model_selection import train_test_split, GridSearchCV\n",
        "from sklearn.preprocessing import LabelEncoder, StandardScaler\n",
        "from sklearn.ensemble import RandomForestClassifier\n",
        "from sklearn.metrics import accuracy_score\n",
        "\n",
        "# Load dataset\n",
        "file_path = \"/content/census-income .csv\"\n",
        "df = pd.read_csv(file_path)\n",
        "\n",
        "# Convert target variable to binary (0: <=50K, 1: >50K)\n",
        "df['annual_income'] = df['annual_income'].map({'<=50K': 0, '>50K': 1})\n",
        "\n",
        "# Encode categorical columns\n",
        "categorical_cols = df.select_dtypes(include=['object']).columns.tolist()\n",
        "label_encoders = {}\n",
        "for col in categorical_cols:\n",
        "    if col != \"annual_income\":  # Target column already mapped\n",
        "        le = LabelEncoder()\n",
        "        df[col] = le.fit_transform(df[col])\n",
        "        label_encoders[col] = le\n",
        "\n",
        "# Split dataset into features (X) and target (y)\n",
        "X = df.drop(columns=[\"annual_income\"])\n",
        "y = df[\"annual_income\"]\n",
        "\n",
        "# Standardize numerical features\n",
        "scaler = StandardScaler()\n",
        "X = scaler.fit_transform(X)\n",
        "\n",
        "# Split into training and testing sets\n",
        "X_train, X_test, y_train, y_test = train_test_split(X, y, test_size=0.2, random_state=42, stratify=y)\n",
        "\n",
        "# Define the parameter grid for GridSearchCV\n",
        "param_grid = {\n",
        "    'n_estimators': [50, 100, 200],\n",
        "    'max_depth': [10, 20, 30],\n",
        "    'min_samples_split': [2, 5, 10]\n",
        "}\n",
        "\n",
        "# Initialize Random Forest Classifier\n",
        "rf = RandomForestClassifier(random_state=42)\n",
        "\n",
        "# Perform Grid Search\n",
        "grid_search = GridSearchCV(estimator=rf, param_grid=param_grid, cv=5, scoring='accuracy', n_jobs=-1)\n",
        "grid_search.fit(X_train, y_train)\n",
        "\n",
        "# Get the best parameters and train the best model\n",
        "best_rf = grid_search.best_estimator_\n",
        "y_pred = best_rf.predict(X_test)\n",
        "\n",
        "# Evaluate model\n",
        "accuracy = accuracy_score(y_test, y_pred)\n",
        "\n",
        "# Print best parameters and accuracy\n",
        "print(f\"Best Parameters: {grid_search.best_params_}\")\n",
        "print(f\"Random Forest Accuracy: {accuracy:.4f}\")\n"
      ],
      "metadata": {
        "colab": {
          "base_uri": "https://localhost:8080/"
        },
        "id": "Q_ZZU7MvMlO1",
        "outputId": "ba826186-50a8-485d-d0ee-5fe1184cfcca"
      },
      "execution_count": 5,
      "outputs": [
        {
          "output_type": "stream",
          "name": "stdout",
          "text": [
            "Best Parameters: {'max_depth': 20, 'min_samples_split': 2, 'n_estimators': 100}\n",
            "Random Forest Accuracy: 0.8644\n"
          ]
        }
      ]
    }
  ]
}